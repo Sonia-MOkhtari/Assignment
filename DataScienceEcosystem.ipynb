{
 "cells": [
  {
   "cell_type": "markdown",
   "id": "e1705ed1-3eb9-4e29-8a2c-ed5566fb31bc",
   "metadata": {},
   "source": [
    "# Data Science Tools and Ecosystem"
   ]
  },
  {
   "cell_type": "markdown",
   "id": "43586ca7-2b15-4d5a-8665-0b18819d2e59",
   "metadata": {},
   "source": [
    "## In this notebook, Data Science Tools and Ecosystem are summarized."
   ]
  },
  {
   "cell_type": "markdown",
   "id": "ca6028d7-b08f-42c7-8f51-662e594044b4",
   "metadata": {},
   "source": [
    "## **Objectives:**\n",
    "- Create a Jupyter Notebook\n",
    "\n",
    "- Insert code and markdown cells\n",
    "\n",
    "- List popular languages for Data Science\n",
    "                        \n",
    "- Share your notebook through GitHub"
   ]
  },
  {
   "cell_type": "markdown",
   "id": "f48a9709-107d-4e7f-ae66-9d7d0ae5f1d4",
   "metadata": {},
   "source": [
    "Some of the popular languages that Data Scientists use are:\n",
    "1- Python\n",
    "\n",
    "2- R\n",
    "\n",
    "3- SQL"
   ]
  },
  {
   "cell_type": "markdown",
   "id": "b1c81986-f459-4dec-b565-8505ef0ca620",
   "metadata": {},
   "source": [
    "Some of the commonly used libraries used by Data Scientists include:\n",
    "1- pandas (Python)\n",
    "\n",
    "2- scikit-learn (Python)\n",
    "\n",
    "3- ggplot2 (R)"
   ]
  },
  {
   "cell_type": "markdown",
   "id": "8071b5a8-c1e2-4364-809f-7376ee60d717",
   "metadata": {},
   "source": [
    "##\n",
    "|Data Science Tools|\n",
    "|---|\n",
    "|Jupyter Notebook|\n",
    "|RStudio|\n",
    "|Visual Studio Code (VS Code)|"
   ]
  },
  {
   "cell_type": "markdown",
   "id": "7c037aff-2e7d-4f7e-b4d7-b62c98b22b62",
   "metadata": {},
   "source": [
    "### Below are a few examples of evaluating arithmetic expressions in Python"
   ]
  },
  {
   "cell_type": "markdown",
   "id": "0eff0a67-e1f2-459c-af80-40f2df9e6d62",
   "metadata": {},
   "source": [
    "This a simple arithmetic expression to mutiply then add integers"
   ]
  },
  {
   "cell_type": "code",
   "execution_count": 2,
   "id": "5b1aceab-f083-43dd-a909-06d8cda7c585",
   "metadata": {},
   "outputs": [
    {
     "data": {
      "text/plain": [
       "17"
      ]
     },
     "execution_count": 2,
     "metadata": {},
     "output_type": "execute_result"
    }
   ],
   "source": [
    "(3*4)+5"
   ]
  },
  {
   "cell_type": "markdown",
   "id": "df354ee6-284d-4a16-b6b8-aa41bd550281",
   "metadata": {},
   "source": [
    "This will convert 200 minutes to hours by diving by 60"
   ]
  },
  {
   "cell_type": "code",
   "execution_count": 3,
   "id": "18577bff-101b-402d-93a2-b3f5ec492f44",
   "metadata": {},
   "outputs": [
    {
     "data": {
      "text/plain": [
       "3.3333333333333335"
      ]
     },
     "execution_count": 3,
     "metadata": {},
     "output_type": "execute_result"
    }
   ],
   "source": [
    "200/60"
   ]
  },
  {
   "cell_type": "markdown",
   "id": "b41bc697-a969-4293-9523-930a7927d47d",
   "metadata": {},
   "source": [
    "## Author\n",
    "Sonia Mokhtaridizaji"
   ]
  },
  {
   "cell_type": "code",
   "execution_count": null,
   "id": "5e08ef40-b436-4d07-b3ec-c1de3fc4f78c",
   "metadata": {},
   "outputs": [],
   "source": []
  }
 ],
 "metadata": {
  "kernelspec": {
   "display_name": "Python 3 (ipykernel)",
   "language": "python",
   "name": "python3"
  },
  "language_info": {
   "codemirror_mode": {
    "name": "ipython",
    "version": 3
   },
   "file_extension": ".py",
   "mimetype": "text/x-python",
   "name": "python",
   "nbconvert_exporter": "python",
   "pygments_lexer": "ipython3",
   "version": "3.12.4"
  }
 },
 "nbformat": 4,
 "nbformat_minor": 5
}
